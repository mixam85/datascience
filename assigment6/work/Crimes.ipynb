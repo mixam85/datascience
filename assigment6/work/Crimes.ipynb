{
 "cells": [
  {
   "cell_type": "code",
   "execution_count": 1,
   "metadata": {
    "collapsed": false
   },
   "outputs": [
    {
     "name": "stdout",
     "output_type": "stream",
     "text": [
      "crimeanalytics.md\n",
      "detroit-311.csv\n",
      "detroit-blight-violations.csv\n",
      "detroit-crime.csv\n",
      "detroit-demolition-permits.tsv\n",
      "ouput.txt\n",
      "outputcd2.csv\n",
      "outputcd.csv\n",
      "output.csv\n",
      "output_pop.csv\n",
      "sample_submission.csv\n",
      "sanfrancisco_incidents_summer_2014.csv\n",
      "seattle_incidents_summer_2014.csv\n",
      "test.csv\n",
      "train.csv\n",
      "\n"
     ]
    },
    {
     "name": "stderr",
     "output_type": "stream",
     "text": [
      ":0: FutureWarning: IPython widgets are experimental and may change in the future.\n"
     ]
    }
   ],
   "source": [
    "import pandas as pd\n",
    "import seaborn as sns\n",
    "import numpy as np\n",
    "import matplotlib.pyplot as plt\n",
    "%matplotlib inline\n",
    "\n",
    "from subprocess import check_output\n",
    "from datetime import datetime\n",
    "print(check_output([\"ls\", \"../input\"]).decode(\"utf8\"))"
   ]
  },
  {
   "cell_type": "markdown",
   "metadata": {},
   "source": [
    "## Load data"
   ]
  },
  {
   "cell_type": "code",
   "execution_count": 2,
   "metadata": {
    "collapsed": false
   },
   "outputs": [
    {
     "name": "stderr",
     "output_type": "stream",
     "text": [
      "/usr/local/lib/python3.4/dist-packages/IPython/core/interactiveshell.py:2871: DtypeWarning: Columns (9) have mixed types. Specify dtype option on import or set low_memory=False.\n",
      "  interactivity=interactivity, compiler=compiler, result=result)\n"
     ]
    }
   ],
   "source": [
    "incidents_sa = pd.read_csv('../input/sanfrancisco_incidents_summer_2014.csv')\n",
    "incidents_se = pd.read_csv('../input/seattle_incidents_summer_2014.csv')"
   ]
  },
  {
   "cell_type": "markdown",
   "metadata": {},
   "source": [
    "## Process San Francisco"
   ]
  },
  {
   "cell_type": "code",
   "execution_count": 10,
   "metadata": {
    "collapsed": false
   },
   "outputs": [
    {
     "name": "stdout",
     "output_type": "stream",
     "text": [
      "Index(['IncidntNum', 'Category', 'Descript', 'DayOfWeek', 'Date', 'Time',\n",
      "       'PdDistrict', 'Resolution', 'Address', 'X', 'Y', 'Location', 'PdId'],\n",
      "      dtype='object')\n",
      "['ARSON' 'NON-CRIMINAL' 'LARCENY/THEFT' 'DRUG/NARCOTIC'\n",
      " 'DRIVING UNDER THE INFLUENCE' 'OTHER OFFENSES' 'TRESPASS' 'VEHICLE THEFT'\n",
      " 'ASSAULT' 'FRAUD' 'SUSPICIOUS OCC' 'SECONDARY CODES' 'WEAPON LAWS'\n",
      " 'MISSING PERSON' 'WARRANTS' 'ROBBERY' 'DRUNKENNESS' 'PROSTITUTION'\n",
      " 'LIQUOR LAWS' 'KIDNAPPING' 'FAMILY OFFENSES' 'LOITERING'\n",
      " 'DISORDERLY CONDUCT' 'FORGERY/COUNTERFEITING' 'EMBEZZLEMENT' 'BURGLARY'\n",
      " 'SUICIDE' 'VANDALISM' 'STOLEN PROPERTY' 'RUNAWAY' 'GAMBLING' 'EXTORTION'\n",
      " 'PORNOGRAPHY/OBSCENE MAT' 'BRIBERY']\n"
     ]
    }
   ],
   "source": [
    "print(incidents_sa.columns)\n",
    "print(pd.unique(incidents_sa['Category']))"
   ]
  },
  {
   "cell_type": "markdown",
   "metadata": {},
   "source": [
    "### Mofify data to extract Hour from Time."
   ]
  },
  {
   "cell_type": "code",
   "execution_count": 32,
   "metadata": {
    "collapsed": false
   },
   "outputs": [],
   "source": [
    "def time_to_hours(x):\n",
    "    return x.split(':')[0]\n",
    "incidents_sa['Hour'] = incidents_sa['Time'].apply(time_to_hours)"
   ]
  },
  {
   "cell_type": "markdown",
   "metadata": {},
   "source": [
    "### Display number of incidents per Hour"
   ]
  },
  {
   "cell_type": "code",
   "execution_count": 31,
   "metadata": {
    "collapsed": false
   },
   "outputs": [
    {
     "data": {
      "text/plain": [
       "<matplotlib.axes._subplots.AxesSubplot at 0x7feefe1a1be0>"
      ]
     },
     "execution_count": 31,
     "metadata": {},
     "output_type": "execute_result"
    },
    {
     "data": {
      "image/png": "[encoded data removed]",
      "text/plain": [
       "<matplotlib.figure.Figure at 0x7feefe837ac8>"
      ]
     },
     "metadata": {},
     "output_type": "display_data"
    }
   ],
   "source": [
    "sns.countplot(data=incidents_sa, x='Hour')"
   ]
  },
  {
   "cell_type": "markdown",
   "metadata": {},
   "source": [
    "### Number of robberies per hour"
   ]
  },
  {
   "cell_type": "code",
   "execution_count": 24,
   "metadata": {
    "collapsed": false
   },
   "outputs": [
    {
     "data": {
      "text/plain": [
       "<matplotlib.axes._subplots.AxesSubplot at 0x7feefee8c828>"
      ]
     },
     "execution_count": 24,
     "metadata": {},
     "output_type": "execute_result"
    },
    {
     "data": {
      "image/png": "[encoded data removed]",
      "text/plain": [
       "<matplotlib.figure.Figure at 0x7feefef18128>"
      ]
     },
     "metadata": {},
     "output_type": "display_data"
    }
   ],
   "source": [
    "sns.countplot(data=incidents_sa[incidents_sa['Category'] == 'ROBBERY'], x='Hour')"
   ]
  },
  {
   "cell_type": "code",
   "execution_count": 52,
   "metadata": {
    "collapsed": false
   },
   "outputs": [],
   "source": [
    "def is_evening(x):\n",
    "    hour = int(x.split(':')[0])\n",
    "    if hour > 19 and hour < 23:\n",
    "        return True\n",
    "    return False\n",
    "incidents_sa['Evening'] = incidents_sa['Time'].apply(is_evening)"
   ]
  },
  {
   "cell_type": "code",
   "execution_count": 53,
   "metadata": {
    "collapsed": false
   },
   "outputs": [
    {
     "name": "stdout",
     "output_type": "stream",
     "text": [
      "LARCENY/THEFT                  1836\n",
      "ASSAULT                         495\n",
      "VEHICLE THEFT                   463\n",
      "OTHER OFFENSES                  461\n",
      "NON-CRIMINAL                    371\n",
      "WARRANTS                        231\n",
      "SUSPICIOUS OCC                  176\n",
      "DRUG/NARCOTIC                   162\n",
      "MISSING PERSON                  150\n",
      "SECONDARY CODES                  76\n",
      "WEAPON LAWS                      61\n",
      "ROBBERY                          55\n",
      "DRUNKENNESS                      37\n",
      "TRESPASS                         23\n",
      "PROSTITUTION                     23\n",
      "DRIVING UNDER THE INFLUENCE      22\n",
      "KIDNAPPING                       18\n",
      "FRAUD                            16\n",
      "RUNAWAY                          16\n",
      "LIQUOR LAWS                      11\n",
      "ARSON                            11\n",
      "VANDALISM                         4\n",
      "DISORDERLY CONDUCT                3\n",
      "SUICIDE                           2\n",
      "FORGERY/COUNTERFEITING            2\n",
      "FAMILY OFFENSES                   2\n",
      "STOLEN PROPERTY                   1\n",
      "EMBEZZLEMENT                      1\n",
      "Name: Category, dtype: int64\n"
     ]
    },
    {
     "data": {
      "image/png": "[encoded data removed]",
      "text/plain": [
       "<matplotlib.figure.Figure at 0x7feefee4b048>"
      ]
     },
     "metadata": {},
     "output_type": "display_data"
    }
   ],
   "source": [
    "# print(pd.Series(incidents_sa.Category).value_counts())\n",
    "# print(incidents_sa[incidents_sa['Evening'] == False])\n",
    "sns.countplot(data=incidents_sa[incidents_sa['Evening'] == True], x='Category')\n",
    "print(pd.Series(incidents_sa[incidents_sa['Evening'] == True].Category).value_counts())"
   ]
  },
  {
   "cell_type": "markdown",
   "metadata": {},
   "source": [
    "## Process Seattle"
   ]
  },
  {
   "cell_type": "code",
   "execution_count": 72,
   "metadata": {
    "collapsed": false
   },
   "outputs": [
    {
     "name": "stdout",
     "output_type": "stream",
     "text": [
      "Index(['RMS CDW ID', 'General Offense Number', 'Offense Code',\n",
      "       'Offense Code Extension', 'Offense Type', 'Summary Offense Code',\n",
      "       'Summarized Offense Description', 'Date Reported',\n",
      "       'Occurred Date or Date Range Start', 'Occurred Date Range End',\n",
      "       'Hundred Block Location', 'District/Sector', 'Zone/Beat',\n",
      "       'Census Tract 2000', 'Longitude', 'Latitude', 'Location', 'Month',\n",
      "       'Year', 'Robbery', 'Hour', 'Evening'],\n",
      "      dtype='object')\n",
      "['BURGLARY-FORCE-RES' 'FRAUD-IDENTITY THEFT' 'THEFT-MAIL' 'COUNTERFEIT'\n",
      " 'THEFT-OTH' 'THEFT-BUILDING' 'FRAUD-CREDIT CARD' 'FRAUD-CHECK' 'EMBEZZLE'\n",
      " 'BURGLARY-NOFORCE-NONRES' 'FRAUD-OTHER' 'THEFT-CARPROWL' 'HARASSMENT'\n",
      " 'THEFT-AUTOACC' 'BURGLARY-NOFORCE-RES' 'PROPERTY DAMAGE-NON RESIDENTIA'\n",
      " 'THEFT-LICENSE PLATE' 'PROPERTY LOST' 'FORGERY-CHECK' 'VEH-THEFT-AUTO'\n",
      " 'BURGLARY-SECURE PARKING-RES' 'THEFT-PKPOCKET' 'THREATS-OTHER'\n",
      " 'PROPERTY LOST - POLICE EQUIPME' 'THEFT-BICYCLE'\n",
      " 'VEH-RCVD-FOR OTHER AGENCY' 'VEH-THEFT-MTRCYCLE' 'NARC-SELL-HEROIN'\n",
      " 'DISPUTE-CIVIL PROPERTY (NON AU' 'VEH-THEFT-TRAILER' 'ASSLT-AGG-WEAPON'\n",
      " 'PROPERTY FOUND' 'THREATS-KILL' 'DISPUTE-OTH' 'WARRARR-MISDEMEANOR'\n",
      " 'ASSLT-AGG-BODYFORCE' 'PROPERTY DAMAGE-RESIDENTIAL' 'VEH-THEFT-TRUCK'\n",
      " 'PROPERTY DAMAGE - GRAFFITI' 'THEFT-AUTO PARTS' 'ASSLT-NONAGG'\n",
      " 'FRAUD-WIRE-ELECTRONIC' 'TRAFFIC' 'BURGLARY-FORCE-NONRES'\n",
      " 'PROPERTY STOLEN-TRAFFICKING' 'THEFT-SHOPLIFT' 'DISTURBANCE-OTH'\n",
      " 'VIOL-COURT ORDER' 'ILLEGAL DUMPING' 'PROSTITUTION-ASSIST-PROMOTE'\n",
      " 'ROBBERY-STREET-BODYFORCE' 'THEFT-BOAT' 'TRESPASS'\n",
      " 'PROPERTY STOLEN-POSSESS' 'THREATS-WEAPON' 'ROBBERY-BUSINESS-BODYFORCE'\n",
      " 'LIQUOR LAW VIOLATION' 'BIAS INCIDENT' 'THEFT OF SERVICES'\n",
      " 'DISTURBANCE-NOISE' 'ASSLT-AGG-POLICE-GUN' 'HOMICIDE-JUST-WEAPON'\n",
      " 'PROP RECOVERED-OTHER AGENCY' 'OBSTRUCT' 'ROBBERY-BANK-WEAPON'\n",
      " 'NARC-FOUND-OTHER' 'DISPUTE-CIVIL PROPERTY (AUTO)' 'DRIVE-BY'\n",
      " 'ROBBERY-BUSINESS-WEAPON' 'RECKLESS BURNING' 'ASSLT-NONAGG-POLICE'\n",
      " 'INJURY - ACCIDENTAL' 'NARC-POSSESS-HALLUCINOGEN' 'NARC-POSSESS-METH'\n",
      " 'WARRARR-FELONY' 'ROBBERY-STREET-GUN' 'NARC-FOUND-MARIJU'\n",
      " 'ROBBERY-RESIDENCE-BODYFORCE' 'NARC-POSSESS-COCAINE' 'INJURY - OTHER'\n",
      " 'BURGLARY-SECURE PARKING-NONRES' 'NARC-EQUIPMENT/PARAPHENALIA'\n",
      " 'WEAPON-POSSESSION' 'NARC-POSSESS-AMPHETAMINE' 'THEFT-PRSNATCH'\n",
      " 'NARC-POSSESS-HEROIN' 'FALSE REPORT' 'ROBBERY-STREET-WEAPON'\n",
      " 'WARRANT-FUGITIVE' 'ELUDING-FELONY FLIGHT' 'ASSLT-AGG-GUN'\n",
      " 'WEAPON-DISCHARGE' 'NARC-SELL-COCAINE' 'ANIMAL-OTH'\n",
      " 'NARC-FOUND-AMPHETAMINE' 'FRAUD-COMPUTER' 'NARC-FOUND-HEROIN'\n",
      " 'ANIMAL-BITE' 'ANIMAL-CRUELTY' 'ENDANGERMENT'\n",
      " 'PORNOGRAPHY-OBSCENE MATERIAL' 'NARC-POSSESS-OTHER' 'NARC-SELL-METH'\n",
      " 'THEFT-COINOP' 'DUI-LIQUOR' 'ROBBERY-BUSINESS-GUN' 'NARC-FOUND-SYNTHETIC'\n",
      " 'NARC-POSSESS-MARIJU' 'FORGERY-OTH' 'NARC-FOUND-COCAINE' 'PROSTITUTION'\n",
      " 'ASSLT-AGG-POLICE-WEAPON' 'MALICIOUS HARASSMENT' 'DUI-DRUGS'\n",
      " 'WEAPON-UNLAWFUL USE' 'ROBBERY-RESIDENCE-WEAPON' 'FIREWORK-USE'\n",
      " 'PROSTITUTION PATRONIZING' 'PROSTITUTION LOITERING' 'HOMICIDE-JUST-GUN'\n",
      " 'ROBBERY-BANK-GUN' 'NARC-FORGERY-PRESCRIPTION' '[INC - CASE DC USE ONLY]'\n",
      " 'WEAPON-CONCEALED' 'NARC-SELL-AMPHETAMINE' 'ROBBERY-RESIDENCE-GUN'\n",
      " 'URINATING/DEFECATING-IN PUBLIC' 'VEH-THEFT-OTHVEH'\n",
      " 'ROBBERY-BANK-BODYFORCE' 'NARC-DRUG TRAFFIC LOITERING' 'NARC-FOUND-OPIUM'\n",
      " 'ASSLT-AGG-POLICE-BODYFORCE' 'NARC-POSSESS-PILL/TABLET'\n",
      " 'PROPERTY STOLEN-SELL' 'FIREWORK-POSSESS' 'WEAPON-SURRENDER-EXCLUDING FIR'\n",
      " 'DISORDERLY CONDUCT' 'NARC-FOUND-METH' 'NARC-FRAUD-PRESCRIPTION'\n",
      " 'NARC-SMUGGLE-OTHER' 'ESCAPE' 'NARC-SELL-SYNTHETIC' 'FORGERY-CREDIT CARD'\n",
      " 'NARC-SELL-MARIJU' 'HOMICIDE-PREMEDITATED-GUN' 'NARC-PRODUCE-MARIJU'\n",
      " 'WEAPON-SELLING']\n"
     ]
    }
   ],
   "source": [
    "print(incidents_se.columns)\n",
    "print(pd.unique(incidents_se['Offense Type']))"
   ]
  },
  {
   "cell_type": "code",
   "execution_count": 62,
   "metadata": {
    "collapsed": false
   },
   "outputs": [
    {
     "data": {
      "text/plain": [
       "<matplotlib.axes._subplots.AxesSubplot at 0x7feefd8b64a8>"
      ]
     },
     "execution_count": 62,
     "metadata": {},
     "output_type": "execute_result"
    },
    {
     "data": {
      "image/png": "[encoded data removed]",
      "text/plain": [
       "<matplotlib.figure.Figure at 0x7feefd9dcfd0>"
      ]
     },
     "metadata": {},
     "output_type": "display_data"
    }
   ],
   "source": [
    "def get_hour(x):\n",
    "    t = datetime.strptime(x,'%m/%d/%Y %I:%M:%S %p')\n",
    "    return t.hour\n",
    "incidents_se['Hour'] = incidents_se['Occurred Date or Date Range Start'].apply(get_hour)\n",
    "sns.countplot(data=incidents_se, x='Hour')"
   ]
  },
  {
   "cell_type": "code",
   "execution_count": 63,
   "metadata": {
    "collapsed": false
   },
   "outputs": [
    {
     "data": {
      "text/plain": [
       "<matplotlib.axes._subplots.AxesSubplot at 0x7feefd73a320>"
      ]
     },
     "execution_count": 63,
     "metadata": {},
     "output_type": "execute_result"
    },
    {
     "data": {
      "image/png": "[encoded data removed]",
      "text/plain": [
       "<matplotlib.figure.Figure at 0x7feefd675a90>"
      ]
     },
     "metadata": {},
     "output_type": "display_data"
    }
   ],
   "source": [
    "def is_robbery(x):\n",
    "    if 'ROBBERY' in x:\n",
    "        return True\n",
    "    return False\n",
    "incidents_se['Robbery'] = incidents_se['Offense Type'].apply(is_robbery)\n",
    "sns.countplot(data=incidents_se[incidents_se['Robbery'] == True], x='Hour')"
   ]
  },
  {
   "cell_type": "code",
   "execution_count": 65,
   "metadata": {
    "collapsed": false
   },
   "outputs": [],
   "source": [
    "def is_evening_hour(x):\n",
    "    if x > 19 and x < 23:\n",
    "        return True\n",
    "    return False\n",
    "incidents_se['Evening'] = incidents_se['Hour'].apply(is_evening_hour)"
   ]
  },
  {
   "cell_type": "code",
   "execution_count": 69,
   "metadata": {
    "collapsed": false
   },
   "outputs": [
    {
     "name": "stdout",
     "output_type": "stream",
     "text": [
      "THEFT-CARPROWL                    1392\n",
      "VEH-THEFT-AUTO                     774\n",
      "PROPERTY DAMAGE-NON RESIDENTIA     323\n",
      "THEFT-OTH                          239\n",
      "ASSLT-NONAGG                       231\n",
      "DISTURBANCE-OTH                    197\n",
      "THEFT-BICYCLE                      164\n",
      "PROPERTY FOUND                     161\n",
      "BURGLARY-FORCE-RES                 145\n",
      "BURGLARY-NOFORCE-RES               134\n",
      "THEFT-BUILDING                      98\n",
      "BURGLARY-SECURE PARKING-RES         91\n",
      "THEFT-SHOPLIFT                      89\n",
      "PROPERTY DAMAGE-RESIDENTIAL         82\n",
      "ROBBERY-STREET-BODYFORCE            80\n",
      "WARRARR-FELONY                      80\n",
      "ASSLT-AGG-WEAPON                    79\n",
      "HARASSMENT                          73\n",
      "WARRARR-MISDEMEANOR                 66\n",
      "THREATS-OTHER                       61\n",
      "BURGLARY-FORCE-NONRES               56\n",
      "PROSTITUTION                        55\n",
      "PROPERTY DAMAGE - GRAFFITI          55\n",
      "FRAUD-CREDIT CARD                   51\n",
      "BURGLARY-NOFORCE-NONRES             50\n",
      "TRESPASS                            49\n",
      "PROSTITUTION PATRONIZING            48\n",
      "THREATS-KILL                        48\n",
      "THEFT-LICENSE PLATE                 46\n",
      "THEFT-AUTOACC                       41\n",
      "                                  ... \n",
      "DISPUTE-CIVIL PROPERTY (NON AU       4\n",
      "ILLEGAL DUMPING                      4\n",
      "PROP RECOVERED-OTHER AGENCY          4\n",
      "NARC-SELL-METH                       4\n",
      "FIREWORK-USE                         3\n",
      "NARC-FOUND-MARIJU                    3\n",
      "FALSE REPORT                         2\n",
      "ROBBERY-RESIDENCE-BODYFORCE          2\n",
      "NARC-POSSESS-AMPHETAMINE             2\n",
      "NARC-POSSESS-HEROIN                  2\n",
      "NARC-POSSESS-HALLUCINOGEN            2\n",
      "ENDANGERMENT                         2\n",
      "THEFT-BOAT                           2\n",
      "NARC-FORGERY-PRESCRIPTION            2\n",
      "HOMICIDE-JUST-WEAPON                 2\n",
      "WEAPON-UNLAWFUL USE                  2\n",
      "THEFT-PRSNATCH                       2\n",
      "PROPERTY LOST - POLICE EQUIPME       2\n",
      "ANIMAL-CRUELTY                       2\n",
      "HOMICIDE-JUST-GUN                    2\n",
      "INJURY - OTHER                       2\n",
      "NARC-SELL-HEROIN                     2\n",
      "VEH-THEFT-OTHVEH                     2\n",
      "FIREWORK-POSSESS                     2\n",
      "NARC-POSSESS-MARIJU                  2\n",
      "DUI-LIQUOR                           1\n",
      "NARC-POSSESS-METH                    1\n",
      "NARC-PRODUCE-MARIJU                  1\n",
      "ROBBERY-RESIDENCE-GUN                1\n",
      "THEFT-COINOP                         1\n",
      "Name: Offense Type, dtype: int64\n"
     ]
    },
    {
     "data": {
      "image/png": "[encoded data removed]",
      "text/plain": [
       "<matplotlib.figure.Figure at 0x7feefea80630>"
      ]
     },
     "metadata": {},
     "output_type": "display_data"
    }
   ],
   "source": [
    "sns.countplot(data=incidents_se[incidents_se['Evening'] == True], x='Offense Type')\n",
    "print(pd.Series(incidents_se[incidents_se['Evening'] == True]['Offense Type']).value_counts())"
   ]
  }
 ],
 "metadata": {
  "kernelspec": {
   "display_name": "Python 3",
   "language": "python",
   "name": "python3"
  },
  "language_info": {
   "codemirror_mode": {
    "name": "ipython",
    "version": 3
   },
   "file_extension": ".py",
   "mimetype": "text/x-python",
   "name": "python",
   "nbconvert_exporter": "python",
   "pygments_lexer": "ipython3",
   "version": "3.4.3"
  }
 },
 "nbformat": 4,
 "nbformat_minor": 0
}
